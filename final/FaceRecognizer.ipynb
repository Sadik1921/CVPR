{
 "cells": [
  {
   "cell_type": "markdown",
   "id": "cd17063f",
   "metadata": {},
   "source": [
    "# Face Recognization\n",
    "#Generate Data set"
   ]
  },
  {
   "cell_type": "code",
   "execution_count": 12,
   "id": "534152d3",
   "metadata": {},
   "outputs": [
    {
     "name": "stdout",
     "output_type": "stream",
     "text": [
      "Requirement already satisfied: opencv-python in c:\\users\\hp\\anaconda3\\lib\\site-packages (4.10.0.84)\n",
      "Requirement already satisfied: numpy>=1.21.2 in c:\\users\\hp\\anaconda3\\lib\\site-packages (from opencv-python) (1.26.4)\n"
     ]
    }
   ],
   "source": [
    "!pip install opencv-python\n"
   ]
  },
  {
   "cell_type": "code",
   "execution_count": 13,
   "id": "b77bb165",
   "metadata": {},
   "outputs": [],
   "source": [
    "import cv2\n",
    "import pickle"
   ]
  },
  {
   "cell_type": "code",
   "execution_count": 14,
   "id": "6dd168c9",
   "metadata": {},
   "outputs": [
    {
     "name": "stdout",
     "output_type": "stream",
     "text": [
      "Press 'Enter' to stop capturing or wait for the limit to be reached.\n",
      "Sample collection completed. 200 images saved.\n"
     ]
    }
   ],
   "source": [
    "import cv2\n",
    "import os\n",
    "\n",
    "def generate_dataset():\n",
    "    # Load the Haar Cascade Classifier\n",
    "    face_classifier = cv2.CascadeClassifier(\"haarcascade_frontalface_default.xml\")\n",
    "    \n",
    "    def face_cropped(img):\n",
    "        \"\"\"\n",
    "        Detect and crop the full face with some padding.\n",
    "        \"\"\"\n",
    "        gray = cv2.cvtColor(img, cv2.COLOR_BGR2GRAY)\n",
    "        faces = face_classifier.detectMultiScale(gray, scaleFactor=1.3, minNeighbors=5)\n",
    "        \n",
    "        if len(faces) == 0:\n",
    "            return None\n",
    "        \n",
    "        for (x, y, w, h) in faces:\n",
    "            # Add padding to capture the full face\n",
    "            padding = int(0.2 * h)  # Add 20% of the height as padding\n",
    "            x1 = max(x - padding, 0)\n",
    "            y1 = max(y - padding, 0)\n",
    "            x2 = min(x + w + padding, img.shape[1])\n",
    "            y2 = min(y + h + padding, img.shape[0])\n",
    "            \n",
    "            cropped_face = img[y1:y2, x1:x2]\n",
    "            return cropped_face  # Return the first detected full face\n",
    "    \n",
    "    # Start capturing video\n",
    "    cap = cv2.VideoCapture(0)\n",
    "    id = 1  # User ID\n",
    "    img_id = 0\n",
    "    \n",
    "    # Create data directory if it doesn't exist\n",
    "    if not os.path.exists(\"data\"):\n",
    "        os.makedirs(\"data\")\n",
    "    \n",
    "    print(\"Press 'Enter' to stop capturing or wait for the limit to be reached.\")\n",
    "    \n",
    "    while True:\n",
    "        ret, frame = cap.read()\n",
    "        if not ret:\n",
    "            print(\"Error: Unable to capture video\")\n",
    "            break\n",
    "        \n",
    "        face = face_cropped(frame)\n",
    "        if face is not None:\n",
    "            img_id += 1\n",
    "            face = cv2.resize(face, (300, 300))\n",
    "            \n",
    "            # Save the face image\n",
    "            file_name_path = f\"data/Sadik{img_id}.jpg\"\n",
    "            cv2.imwrite(file_name_path, face)\n",
    "            \n",
    "            # Display the captured face with sample number\n",
    "            cv2.putText(face, f\"Sample {img_id}\", (10, 30), cv2.FONT_HERSHEY_SIMPLEX, 0.8, (0, 255, 0), 2)\n",
    "            cv2.imshow(\"Cropped Face\", face)\n",
    "        \n",
    "        # Break on Enter key or after collecting 600 samples\n",
    "        if cv2.waitKey(1) == 13 or img_id == 200: \n",
    "            break\n",
    "    \n",
    "    cap.release()\n",
    "    cv2.destroyAllWindows()\n",
    "    print(f\"Sample collection completed. {img_id} images saved.\")\n",
    "\n",
    "# Run the dataset generation\n",
    "\n",
    "\n",
    "\n",
    "generate_dataset()\n",
    "\n"
   ]
  },
  {
   "cell_type": "code",
   "execution_count": null,
   "id": "e4a95302",
   "metadata": {},
   "outputs": [],
   "source": [
    "\n"
   ]
  },
  {
   "cell_type": "code",
   "execution_count": null,
   "id": "12d15049",
   "metadata": {},
   "outputs": [],
   "source": []
  }
 ],
 "metadata": {
  "kernelspec": {
   "display_name": "Python [conda env:base] *",
   "language": "python",
   "name": "conda-base-py"
  },
  "language_info": {
   "codemirror_mode": {
    "name": "ipython",
    "version": 3
   },
   "file_extension": ".py",
   "mimetype": "text/x-python",
   "name": "python",
   "nbconvert_exporter": "python",
   "pygments_lexer": "ipython3",
   "version": "3.12.7"
  }
 },
 "nbformat": 4,
 "nbformat_minor": 5
}
